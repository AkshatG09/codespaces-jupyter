{
 "cells": [
  {
   "cell_type": "markdown",
   "metadata": {},
   "source": [
    "# Data Science Tools and Ecosystem\n"
   ]
  },
  {
   "cell_type": "markdown",
   "metadata": {},
   "source": [
    "In this notebook, Data Science Tools and Ecosystem are summarized."
   ]
  },
  {
   "cell_type": "markdown",
   "metadata": {},
   "source": [
    "**Objectives:**\n",
    "\n",
    "- List popular languages for Data Science.\n",
    "- Introduce key Data Science libraries in Python.\n",
    "- Explain how to evaluate arithmetic expressions in Python.\n",
    "- Demonstrate the conversion of minutes to hours in Python.\n",
    "- Provide an overview of Data Science tools and their ecosystem.\n"
   ]
  },
  {
   "cell_type": "markdown",
   "metadata": {},
   "source": [
    "- **Python**: Widely used for data analysis, machine learning, and scientific computing. Libraries like NumPy, Pandas, and Scikit-Learn make it a go-to choice for data scientists.\n",
    "\n",
    "- **R**: Known for its strong statistical capabilities and data visualization tools. R is popular in academic and research circles.\n",
    "\n",
    "- **SQL (Structured Query Language)**: Essential for working with relational databases, SQL is crucial for data extraction, transformation, and analysis.\n",
    "\n",
    "- **Julia**: Gaining popularity for its speed and performance in numerical and scientific computing tasks.\n",
    "\n",
    "- **Scala**: Often used with Apache Spark for distributed data processing."
   ]
  },
  {
   "cell_type": "markdown",
   "metadata": {},
   "source": [
    "- **NumPy**: A fundamental library for numerical computations in Python, providing support for arrays and matrices.\n",
    "\n",
    "- **Pandas**: A versatile library for data manipulation and analysis, especially for handling structured data.\n",
    "\n",
    "- **Matplotlib**: A popular library for creating static, animated, and interactive visualizations in Python.\n",
    "\n",
    "- **Seaborn**: Built on top of Matplotlib, Seaborn provides a high-level interface for creating informative and attractive statistical graphics.\n",
    "\n",
    "- **Scikit-Learn**: A machine learning library offering tools for classification, regression, clustering, dimensionality reduction, and more.\n",
    "\n",
    "- **TensorFlow**: An open-source machine learning framework developed by Google for building and deploying deep learning models.\n",
    "\n",
    "- **PyTorch**: A deep learning framework that provides dynamic computation graphs, making it popular among researchers and practitioners.\n",
    "\n",
    "- **Keras**: An easy-to-use high-level neural networks API that runs on top of TensorFlow, Theano, or Microsoft Cognitive Toolkit (CNTK).\n",
    "\n",
    "- **NLTK (Natural Language Toolkit)**: A library for working with human language data, including text processing and text analysis."
   ]
  },
  {
   "cell_type": "markdown",
   "metadata": {},
   "source": [
    "## Data Science Tools\n",
    "\n",
    "| Data Science Tools        |\n",
    "|---------------------------|\n",
    "| Jupyter Notebook          |\n",
    "| RStudio                   |\n",
    "| Visual Studio Code (VSCode)|\n"
   ]
  },
  {
   "cell_type": "markdown",
   "metadata": {},
   "source": [
    "### Examples of Evaluating Arithmetic Expressions in Python\n",
    "\n",
    "In data science and programming, arithmetic expressions play a fundamental role in performing mathematical calculations. Below are a few examples of evaluating arithmetic expressions in Python.\n"
   ]
  },
  {
   "cell_type": "code",
   "execution_count": 1,
   "metadata": {},
   "outputs": [
    {
     "data": {
      "text/plain": [
       "17"
      ]
     },
     "execution_count": 1,
     "metadata": {},
     "output_type": "execute_result"
    }
   ],
   "source": [
    "# This is a simple arithmetic expression to multiply then add integers.\n",
    "result = (3 * 4) + 5\n",
    "result\n"
   ]
  },
  {
   "cell_type": "code",
   "execution_count": 2,
   "metadata": {},
   "outputs": [
    {
     "data": {
      "text/plain": [
       "3.3333333333333335"
      ]
     },
     "execution_count": 2,
     "metadata": {},
     "output_type": "execute_result"
    }
   ],
   "source": [
    "# This will convert 200 minutes to hours by dividing by 60.\n",
    "minutes = 200\n",
    "hours = minutes / 60\n",
    "hours\n"
   ]
  },
  {
   "cell_type": "markdown",
   "metadata": {},
   "source": [
    "## Author\n",
    "\n",
    "Akshat Gharpure\n"
   ]
  }
 ],
 "metadata": {
  "kernelspec": {
   "display_name": "Python 3",
   "language": "python",
   "name": "python3"
  },
  "language_info": {
   "codemirror_mode": {
    "name": "ipython",
    "version": 3
   },
   "file_extension": ".py",
   "mimetype": "text/x-python",
   "name": "python",
   "nbconvert_exporter": "python",
   "pygments_lexer": "ipython3",
   "version": "3.10.8"
  },
  "orig_nbformat": 4
 },
 "nbformat": 4,
 "nbformat_minor": 2
}
